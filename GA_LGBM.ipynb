{
 "cells": [
  {
   "cell_type": "code",
   "execution_count": 3,
   "metadata": {},
   "outputs": [],
   "source": [
    "import warnings\n",
    "warnings.filterwarnings('ignore')"
   ]
  },
  {
   "cell_type": "code",
   "execution_count": 4,
   "metadata": {},
   "outputs": [],
   "source": [
    "import math\n",
    "import time\n",
    "import pandas as pd\n",
    "import numpy as np\n",
    "import matplotlib.pyplot as plt\n",
    "from random import shuffle, randint\n",
    "from sklearn.metrics import accuracy_score\n",
    "from sklearn.model_selection import train_test_split\n",
    "import lightgbm as lgb"
   ]
  },
  {
   "cell_type": "code",
   "execution_count": 6,
   "metadata": {},
   "outputs": [
    {
     "name": "stdout",
     "output_type": "stream",
     "text": [
      "   mean_radius  mean_texture  mean_perimeter  mean_area  mean_smoothness  \\\n",
      "0        17.99         10.38          122.80     1001.0          0.11840   \n",
      "1        20.57         17.77          132.90     1326.0          0.08474   \n",
      "2        19.69         21.25          130.00     1203.0          0.10960   \n",
      "3        11.42         20.38           77.58      386.1          0.14250   \n",
      "4        20.29         14.34          135.10     1297.0          0.10030   \n",
      "\n",
      "   diagnosis  \n",
      "0          0  \n",
      "1          0  \n",
      "2          0  \n",
      "3          0  \n",
      "4          0  \n",
      "(569, 6)\n"
     ]
    }
   ],
   "source": [
    "df = pd.read_csv('Breast_cancer_data.csv')\n",
    "print(df.head())\n",
    "print(df.shape)"
   ]
  },
  {
   "cell_type": "code",
   "execution_count": 27,
   "metadata": {},
   "outputs": [],
   "source": [
    "class GAHyperOpt:\n",
    "    def __init__(self, features, target, data, params, model, generations, populationSize, mutationPercentage, elites):\n",
    "        self.X = df[features]\n",
    "        self.y = df[target]\n",
    "        self.X_train, self.X_test, self.y_train, self.y_test = train_test_split(self.X, self.y, test_size = 0.3)\n",
    "        self.model=model\n",
    "        self.params=params\n",
    "        self.currPopulation=[]\n",
    "        self.nextPopulation=[]\n",
    "        self.generations=generations\n",
    "        self.accArr=[]\n",
    "        self.populationSize=populationSize\n",
    "        self.mutationPercentage=mutationPercentage\n",
    "    \n",
    "    def createPopulation(self):\n",
    "        for childNum in range(self.populationSize):\n",
    "            myParams={}\n",
    "            for i in self.params:\n",
    "                decider=np.random.uniform(0,1)\n",
    "                paramValue=i[1]+(decider*(i[2]-i[1]))\n",
    "                if type(i[1])==float:\n",
    "                    paramValue=round(paramValue, 2)\n",
    "                elif type(i[1])==int:\n",
    "                    paramValue=int(paramValue)\n",
    "                myParams[i[0]]=paramValue\n",
    "            self.currPopulation.append([myParams,self.fitness(myParams)])\n",
    "        print(\"self.currPopulation\",self.currPopulation)\n",
    "        \n",
    "    def fitness(self,params):\n",
    "        self.model.set_params(**params)\n",
    "        self.model.fit(self.X_train, self.y_train)\n",
    "        self.y_pred=self.model.predict(self.X_test)\n",
    "        return accuracy_score(self.y_pred, self.y_test)\n",
    "            \n",
    "    def mutate(self):\n",
    "        for params in self.currPopulation:\n",
    "            decider=randint(0,100)\n",
    "            probability=100-self.mutationPercentage\n",
    "            if decider >= probability:\n",
    "                sign=np.random.choice([-1,1])\n",
    "                pc=randint(0,len(params)-1)\n",
    "                currValue=self.currParams[params[pc][0]]\n",
    "                decider=np.random.uniform(0,n)\n",
    "                paramValue=(sign*decider*(self.params[pc][2]-self.params[pc][1]))+currValue\n",
    "                if type(self.params[pc][1])==float:\n",
    "                    paramValue=min(max(round(paramValue, 2),self.params[pc][1]),self.params[pc][2])\n",
    "                elif type(self.params[pc][1])==int:\n",
    "                    paramValue=min(max(int(paramValue),self.params[pc][1]),self.params[pc][2])\n",
    "                                        \n",
    "#     def elitism(self):\n",
    "#         for i in range(0,self.elites):"
   ]
  },
  {
   "cell_type": "code",
   "execution_count": 25,
   "metadata": {},
   "outputs": [],
   "source": [
    "features=['mean_radius','mean_texture','mean_perimeter','mean_area','mean_smoothness']\n",
    "target=['diagnosis']\n",
    "\n",
    "params=[[\"num_leaves\",2,500],\n",
    "    [\"max_depth\",1,50],\n",
    "    [\"learning_rate\",0.01,5],\n",
    "    [\"n_estimators\",1,1000],\n",
    "    [\"colsample_bytree\",0.01,1]]\n",
    "\n",
    "myGenerations, myPopulationSize, myMutationPercentage, myElites = 10, 2, 2, 2\n",
    "\n",
    "#         (self, features, target, data, params, model, generations, populationSize, mutationPercentage, elites)\n",
    "myObj=GAHyperOpt(features, target, df, params, lgb.LGBMClassifier(), myGenerations, myPopulationSize, myMutationPercentage, myElites)"
   ]
  },
  {
   "cell_type": "code",
   "execution_count": 26,
   "metadata": {},
   "outputs": [
    {
     "name": "stdout",
     "output_type": "stream",
     "text": [
      "self.currPopulation [[{'num_leaves': 89, 'max_depth': 25, 'learning_rate': 2.65, 'n_estimators': 189, 'colsample_bytree': 0.86}, 0.6491228070175439], [{'num_leaves': 301, 'max_depth': 30, 'learning_rate': 4.36, 'n_estimators': 292, 'colsample_bytree': 0.77}, 0.8538011695906432]]\n"
     ]
    }
   ],
   "source": [
    "myObj.createPopulation()"
   ]
  },
  {
   "cell_type": "code",
   "execution_count": null,
   "metadata": {},
   "outputs": [],
   "source": []
  },
  {
   "cell_type": "code",
   "execution_count": null,
   "metadata": {},
   "outputs": [],
   "source": []
  },
  {
   "cell_type": "code",
   "execution_count": null,
   "metadata": {},
   "outputs": [],
   "source": []
  },
  {
   "cell_type": "code",
   "execution_count": null,
   "metadata": {},
   "outputs": [],
   "source": []
  },
  {
   "cell_type": "code",
   "execution_count": null,
   "metadata": {},
   "outputs": [],
   "source": []
  },
  {
   "cell_type": "code",
   "execution_count": null,
   "metadata": {},
   "outputs": [],
   "source": []
  },
  {
   "cell_type": "code",
   "execution_count": null,
   "metadata": {},
   "outputs": [],
   "source": []
  },
  {
   "cell_type": "code",
   "execution_count": null,
   "metadata": {},
   "outputs": [],
   "source": []
  },
  {
   "cell_type": "code",
   "execution_count": null,
   "metadata": {},
   "outputs": [],
   "source": []
  }
 ],
 "metadata": {
  "kernelspec": {
   "display_name": "Python 3",
   "language": "python",
   "name": "python3"
  },
  "language_info": {
   "codemirror_mode": {
    "name": "ipython",
    "version": 3
   },
   "file_extension": ".py",
   "mimetype": "text/x-python",
   "name": "python",
   "nbconvert_exporter": "python",
   "pygments_lexer": "ipython3",
   "version": "3.7.4"
  }
 },
 "nbformat": 4,
 "nbformat_minor": 2
}
